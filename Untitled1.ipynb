{
  "nbformat": 4,
  "nbformat_minor": 0,
  "metadata": {
    "colab": {
      "provenance": [],
      "authorship_tag": "ABX9TyP1G0C6BMgzIy/NgLAu6YhG",
      "include_colab_link": true
    },
    "kernelspec": {
      "name": "python3",
      "display_name": "Python 3"
    },
    "language_info": {
      "name": "python"
    }
  },
  "cells": [
    {
      "cell_type": "markdown",
      "metadata": {
        "id": "view-in-github",
        "colab_type": "text"
      },
      "source": [
        "<a href=\"https://colab.research.google.com/github/simransavita9984/c-program-1-/blob/main/Untitled1.ipynb\" target=\"_parent\"><img src=\"https://colab.research.google.com/assets/colab-badge.svg\" alt=\"Open In Colab\"/></a>"
      ]
    },
    {
      "cell_type": "code",
      "execution_count": 1,
      "metadata": {
        "colab": {
          "base_uri": "https://localhost:8080/"
        },
        "id": "wYtx-KoH7rEk",
        "outputId": "a2df4d1c-be70-40ab-ce05-65bf4727d434"
      },
      "outputs": [
        {
          "output_type": "stream",
          "name": "stdout",
          "text": [
            "The factorial of 5 is 120\n"
          ]
        }
      ],
      "source": [
        "def factorial_iterative(n):\n",
        "    result = 1\n",
        "    for i in range(1, n + 1):\n",
        "        result *= i\n",
        "    return result\n",
        "\n",
        "# Example usage:\n",
        "number = 5\n",
        "print(f\"The factorial of {number} is {factorial_iterative(number)}\")\n"
      ]
    },
    {
      "cell_type": "code",
      "source": [
        "def compound_interest(principal, rate, time):\n",
        "\tAmount = principal * (pow((1 + rate / 100), time))\n",
        "\tCI = Amount - principal\n",
        "\tprint(\"Compound interest is\", CI)\n",
        "compound_interest(10000, 10.25, 5)\n"
      ],
      "metadata": {
        "colab": {
          "base_uri": "https://localhost:8080/"
        },
        "id": "tLYP4egx8QDh",
        "outputId": "24f837d9-82cb-4ea1-8b87-90d9f2f8cf0a"
      },
      "execution_count": 3,
      "outputs": [
        {
          "output_type": "stream",
          "name": "stdout",
          "text": [
            "Compound interest is 6288.946267774416\n"
          ]
        }
      ]
    },
    {
      "cell_type": "code",
      "source": [
        "num = int(input(\"Enter a number: \"))\n",
        "sum = 0\n",
        "temp = num\n",
        "while temp > 0:\n",
        "   digit = temp % 10\n",
        "   sum += digit ** 3\n",
        "   temp //= 10\n",
        "if num == sum:\n",
        "   print(num,\"is an Armstrong number\")\n",
        "else:\n",
        "   print(num,\"is not an Armstrong number\")\n"
      ],
      "metadata": {
        "colab": {
          "base_uri": "https://localhost:8080/"
        },
        "id": "aCqcBSrH85wD",
        "outputId": "35dc0150-f1f8-4e2b-8988-b435e806a3ab"
      },
      "execution_count": 4,
      "outputs": [
        {
          "output_type": "stream",
          "name": "stdout",
          "text": [
            "Enter a number: 5\n",
            "5 is not an Armstrong number\n"
          ]
        }
      ]
    },
    {
      "cell_type": "code",
      "source": [
        "# Python program to display all the prime numbers within an interval\n",
        "lower = 900\n",
        "upper = 1000\n",
        "print(\"Prime numbers between\", lower, \"and\", upper, \"are:\")\n",
        "\n",
        "for num in range(lower, upper + 1):\n",
        "   # all prime numbers are greater than 1\n",
        "   if num > 1:\n",
        "       for i in range(2, num):\n",
        "           if (num % i) == 0:\n",
        "               break\n",
        "       else:\n",
        "           print(num)"
      ],
      "metadata": {
        "colab": {
          "base_uri": "https://localhost:8080/"
        },
        "id": "G_tmPKAo9dxX",
        "outputId": "6f292287-c2ed-4aa4-f025-2f8824c1e58b"
      },
      "execution_count": 7,
      "outputs": [
        {
          "output_type": "stream",
          "name": "stdout",
          "text": [
            "Prime numbers between 900 and 1000 are:\n",
            "907\n",
            "911\n",
            "919\n",
            "929\n",
            "937\n",
            "941\n",
            "947\n",
            "953\n",
            "967\n",
            "971\n",
            "977\n",
            "983\n",
            "991\n",
            "997\n"
          ]
        }
      ]
    },
    {
      "cell_type": "code",
      "source": [
        "def is_prime(n):\n",
        "  if n <= 1:\n",
        "    return False\n",
        "  for i in range(2, int(n**0.5) + 1):\n",
        "    if n % i == 0:\n",
        "      return False\n",
        "  return True\n",
        "number = 11\n",
        "if is_prime(number):\n",
        "  print(f\"{number} is a prime number\")\n",
        "else:\n",
        "  print(f\"{number} is not a prime number\")"
      ],
      "metadata": {
        "colab": {
          "base_uri": "https://localhost:8080/"
        },
        "id": "JXxmLwle92K2",
        "outputId": "9126d5b2-9b90-4f50-a5e9-78752ab0cd8c"
      },
      "execution_count": 5,
      "outputs": [
        {
          "output_type": "stream",
          "name": "stdout",
          "text": [
            "11 is a prime number\n"
          ]
        }
      ]
    },
    {
      "cell_type": "code",
      "source": [
        "def fibonacci_sequence(n):\n",
        "  if n <= 0:\n",
        "    return []\n",
        "  elif n == 1:\n",
        "    return [0]\n",
        "  else:\n",
        "    list_fib = [0, 1]\n",
        "    while len(list_fib) < n:\n",
        "      next_fib = list_fib[-1] + list_fib[-2]\n",
        "      list_fib.append(next_fib)\n",
        "    return list_fib\n",
        "num_terms = 10\n",
        "print(fibonacci_sequence(num_terms))"
      ],
      "metadata": {
        "colab": {
          "base_uri": "https://localhost:8080/"
        },
        "id": "HsEySObg-F-4",
        "outputId": "4add52c9-27ff-484d-c6b2-03b9c348c60a"
      },
      "execution_count": 6,
      "outputs": [
        {
          "output_type": "stream",
          "name": "stdout",
          "text": [
            "[0, 1, 1, 2, 3, 5, 8, 13, 21, 34]\n"
          ]
        }
      ]
    },
    {
      "cell_type": "code",
      "source": [
        "char = input(\"Enter a character: \")\n",
        "ascii_value = ord(char)\n",
        "print(\"The ASCII value of\", char, \"is\", ascii_value)"
      ],
      "metadata": {
        "colab": {
          "base_uri": "https://localhost:8080/"
        },
        "id": "EJCNV1MIAsRt",
        "outputId": "1b2cf652-a412-494a-bcaa-840d6c0d636a"
      },
      "execution_count": 9,
      "outputs": [
        {
          "output_type": "stream",
          "name": "stdout",
          "text": [
            "Enter a character: A\n",
            "The ASCII value of A is 65\n"
          ]
        }
      ]
    },
    {
      "cell_type": "code",
      "source": [
        "def swap_first_last(list1):\n",
        "    if len(list1) >= 2:\n",
        "        list1[0], list1[-1] = list1[-1], list1[0]\n",
        "    return list1\n",
        "my_list = [1, 2, 3, 4, 5]\n",
        "swapped_list = swap_first_last(my_list)\n",
        "print(swapped_list)"
      ],
      "metadata": {
        "id": "y3UtOzZoDIpw"
      },
      "execution_count": null,
      "outputs": []
    },
    {
      "cell_type": "code",
      "source": [
        "def swap_elements(list1, pos1, pos2):\n",
        "    list1[pos1], list1[pos2] = list1[pos2], list1[pos1]\n",
        "    return list1\n",
        "\n",
        "my_list = [1, 2, 3, 4, 5]\n",
        "pos1, pos2 = 1, 3\n",
        "swapped_list = swap_elements(my_list, pos1, pos2)\n",
        "print(swapped_list)"
      ],
      "metadata": {
        "colab": {
          "base_uri": "https://localhost:8080/"
        },
        "id": "bPf8ZUreECO5",
        "outputId": "74225972-f58a-4b49-df76-8c649af5e7e1"
      },
      "execution_count": 11,
      "outputs": [
        {
          "output_type": "stream",
          "name": "stdout",
          "text": [
            "[1, 4, 3, 2, 5]\n"
          ]
        }
      ]
    },
    {
      "cell_type": "code",
      "source": [
        "def remove_nth_occurrence(lst, word, n):\n",
        "    count = 0\n",
        "    for i in range(len(lst)):\n",
        "        if lst[i] == word:\n",
        "            count += 1\n",
        "            if count == n:\n",
        "                del lst[i]\n",
        "                return lst\n",
        "    return lst\n",
        "my_list = [\"apple\", \"banana\", \"orange\", \"apple\", \"grape\", \"apple\"]\n",
        "word_to_remove = \"apple\"\n",
        "n = 2\n",
        "new_list = remove_nth_occurrence(my_list, word_to_remove, n)\n",
        "print(new_list)"
      ],
      "metadata": {
        "colab": {
          "base_uri": "https://localhost:8080/"
        },
        "id": "QuVUVWuSEYbU",
        "outputId": "e07ba8d0-e217-4a16-9dd7-7b63abbf25af"
      },
      "execution_count": 12,
      "outputs": [
        {
          "output_type": "stream",
          "name": "stdout",
          "text": [
            "['apple', 'banana', 'orange', 'grape', 'apple']\n"
          ]
        }
      ]
    },
    {
      "cell_type": "code",
      "source": [
        "my_list = [1, 2, 3, 4, 5]\n",
        "length = len(my_list)\n",
        "print(\"The length of the list is:\", length)"
      ],
      "metadata": {
        "colab": {
          "base_uri": "https://localhost:8080/"
        },
        "id": "0t2q6y2NEyAA",
        "outputId": "dab283d2-a303-4708-8113-7868c64b4186"
      },
      "execution_count": 13,
      "outputs": [
        {
          "output_type": "stream",
          "name": "stdout",
          "text": [
            "The length of the list is: 5\n"
          ]
        }
      ]
    },
    {
      "cell_type": "code",
      "source": [
        "my_list = [1, 2, 3, 4, 5]\n",
        "element_to_check = 3\n",
        "if element_to_check in my_list:\n",
        "    print(f\"{element_to_check} exists in the list\")\n",
        "else:\n",
        "    print(f\"{element_to_check} does not exist in the list\")"
      ],
      "metadata": {
        "id": "2ZOOqB4SE-7E"
      },
      "execution_count": null,
      "outputs": []
    },
    {
      "cell_type": "code",
      "source": [
        "my_list = [1, 2, 3, 4, 5]\n",
        "print(\"Original list:\", my_list)\n",
        "my_list.clear()\n",
        "print(\"Cleared list:\", my_list)"
      ],
      "metadata": {
        "id": "F9TtkPs5FMhJ"
      },
      "execution_count": null,
      "outputs": []
    },
    {
      "cell_type": "code",
      "source": [
        "my_list = [1, 2, 3, 4, 5]\n",
        "reversed_list = my_list[::-1]\n",
        "print(\"Reversed list:\", reversed_list)"
      ],
      "metadata": {
        "id": "2aHKqtWIFWjD"
      },
      "execution_count": null,
      "outputs": []
    },
    {
      "cell_type": "code",
      "source": [
        "original_list = [1, 2, 3, 4, 5]\n",
        "copied_list = original_list.copy()\n",
        "print(\"Original list:\", original_list)\n",
        "print(\"Copied list:\", copied_list)"
      ],
      "metadata": {
        "colab": {
          "base_uri": "https://localhost:8080/"
        },
        "id": "JMKH0VOLFhp9",
        "outputId": "2e70cd76-a0b6-4563-da7e-9366c3f8b947"
      },
      "execution_count": 14,
      "outputs": [
        {
          "output_type": "stream",
          "name": "stdout",
          "text": [
            "Original list: [1, 2, 3, 4, 5]\n",
            "Copied list: [1, 2, 3, 4, 5]\n"
          ]
        }
      ]
    },
    {
      "cell_type": "code",
      "source": [
        "my_list = [1, 2, 3, 4, 3, 2, 1, 3]\n",
        "element_to_count = 3\n",
        "count = my_list.count(element_to_count)\n",
        "print(f\"The element {element_to_count} occurs {count} times in the list.\")"
      ],
      "metadata": {
        "id": "Y84uWDWHFk16"
      },
      "execution_count": null,
      "outputs": []
    },
    {
      "cell_type": "code",
      "source": [
        "my_list = [1, 2, 3, 4, 5]\n",
        "result = 1\n",
        "for num in my_list:\n",
        "    result *= num\n",
        "print(\"The product of all numbers in the list is:\", result)"
      ],
      "metadata": {
        "colab": {
          "base_uri": "https://localhost:8080/"
        },
        "id": "_NecQFfKF3vo",
        "outputId": "e115c6f6-20d8-478b-e7c2-2c40b3e9edad"
      },
      "execution_count": 15,
      "outputs": [
        {
          "output_type": "stream",
          "name": "stdout",
          "text": [
            "The product of all numbers in the list is: 120\n"
          ]
        }
      ]
    },
    {
      "cell_type": "code",
      "source": [
        "my_list = [5, 2, 8, 1, 9]\n",
        "smallest = min(my_list)\n",
        "print(\"The smallest number in the list is:\", smallest)"
      ],
      "metadata": {
        "id": "jeV5-H6NGIhM"
      },
      "execution_count": null,
      "outputs": []
    },
    {
      "cell_type": "code",
      "source": [
        "def is_palindrome(text):\n",
        "    processed_text = ''.join(c for c in text.lower() if c.isalnum())\n",
        "    return processed_text == processed_text[::-1]\n",
        "string1 = \"madam\"\n",
        "string2 = \"racecar\"\n",
        "string3 = \"apple\"\n",
        "print(f\"'{string1}' is a palindrome: {is_palindrome(string1)}\")\n",
        "print(f\"'{string2}' is a palindrome: {is_palindrome(string2)}\")\n",
        "print(f\"'{string3}' is a palindrome: {is_palindrome(string3)}\")"
      ],
      "metadata": {
        "id": "mtMt-CtZJY4c"
      },
      "execution_count": null,
      "outputs": []
    },
    {
      "cell_type": "code",
      "source": [
        "def reverse_words(sentence):\n",
        "  words = sentence.split()\n",
        "  reversed_sentence = \" \".join(reversed(words))\n",
        "  return reversed_sentence\n",
        "my_string = \"This is a sentence\"\n",
        "reversed_string = reverse_words(my_string)\n",
        "print(reversed_string)"
      ],
      "metadata": {
        "id": "_E40Qe2nJvRm"
      },
      "execution_count": null,
      "outputs": []
    },
    {
      "cell_type": "code",
      "source": [
        "def remove_ith_char(text, i):\n",
        "  if i < 0 or i >= len(text):\n",
        "    return \"Invalid index\"\n",
        "  new_text = text[:i] + text[i+1:]\n",
        "  return new_text\n",
        "my_string = \"Hello, world!\"\n",
        "index_to_remove = 7\n",
        "result = remove_ith_char(my_string, index_to_remove)\n",
        "print(result)"
      ],
      "metadata": {
        "id": "H5NqEC2hKPb7"
      },
      "execution_count": null,
      "outputs": []
    },
    {
      "cell_type": "code",
      "source": [
        "def is_substring_present(string, substring):\n",
        "  if substring in string:\n",
        "    return True\n",
        "  else:\n",
        "    return False\n",
        "main_string = \"This is a sentence.\"\n",
        "substring_to_check = \"sentence\"\n",
        "if is_substring_present(main_string, substring_to_check):\n",
        "  print(f\"'{substring_to_check}' is present in '{main_string}'\")\n",
        "else:\n",
        "  print(f\"'{substring_to_check}' is not present in '{main_string}'\")"
      ],
      "metadata": {
        "id": "wbtAMesxKTAn"
      },
      "execution_count": null,
      "outputs": []
    },
    {
      "cell_type": "code",
      "source": [
        "def find_string_length(text):\n",
        "  length = len(text)\n",
        "  return length\n",
        "my_string = \"Hello, world!\"\n",
        "length = find_string_length(my_string)\n",
        "print(f\"The length of the string is: {length}\")"
      ],
      "metadata": {
        "id": "Ea8LR4FGKxGU"
      },
      "execution_count": null,
      "outputs": []
    },
    {
      "cell_type": "code",
      "source": [
        "def print_even_length_words(text):\n",
        "  words = text.split()\n",
        "  for word in words:\n",
        "    if len(word) % 2 == 0:\n",
        "      print(word)\n",
        "my_string = \"This is a sentence with some even and odd length words\"\n",
        "print_even_length_words(my_string)"
      ],
      "metadata": {
        "id": "hh3tqiNULKFw"
      },
      "execution_count": null,
      "outputs": []
    },
    {
      "cell_type": "code",
      "source": [
        "def contains_all_vowels(text):\n",
        "  vowels = set('aeiou')\n",
        "  return vowels.issubset(text.lower())\n",
        "string1 = \"This is a sentence with all vowels\"\n",
        "string2 = \"Missing some vowels\"\n",
        "print(f\"'{string1}' contains all vowels: {contains_all_vowels(string1)}\")\n",
        "print(f\"'{string2}' contains all vowels: {contains_all_vowels(string2)}\")"
      ],
      "metadata": {
        "id": "_-2qtZCkLYxv"
      },
      "execution_count": null,
      "outputs": []
    },
    {
      "cell_type": "code",
      "source": [
        "def count_matching_chars(str1, str2):\n",
        "  count = 0\n",
        "  for char1, char2 in zip(str1, str2):\n",
        "    if char1 == char2:\n",
        "      count += 1\n",
        "  return count\n",
        "string1 = \"hello\"\n",
        "string2 = \"world\"\n",
        "matching_count = count_matching_chars(string1, string2)\n",
        "print(f\"Number of matching characters: {matching_count}\")"
      ],
      "metadata": {
        "id": "N0hYxun0LqGg"
      },
      "execution_count": null,
      "outputs": []
    },
    {
      "cell_type": "code",
      "source": [
        "def remove_duplicates(text):\n",
        "  unique_chars = \"\"\n",
        "  for char in text:\n",
        "    if char not in unique_chars:\n",
        "      unique_chars += char\n",
        "  return unique_chars\n",
        "my_string = \"abbcdeff\"\n",
        "result = remove_duplicates(my_string)\n",
        "print(f\"String after removing duplicates: {result}\")"
      ],
      "metadata": {
        "id": "aiUXcpHbL3Gi"
      },
      "execution_count": null,
      "outputs": []
    },
    {
      "cell_type": "code",
      "source": [
        "my_dict = {'c': 3, 'a': 1, 'b': 2}\n",
        "sorted_dict_by_key = dict(sorted(my_dict.items()))\n",
        "print(\"Sorted by key:\", sorted_dict_by_key)\n",
        "sorted_dict_by_value = dict(sorted(my_dict.items(), key=lambda item: item[1]))\n",
        "print(\"Sorted by value:\", sorted_dict_by_value)"
      ],
      "metadata": {
        "id": "zfThVVp9MDNp"
      },
      "execution_count": null,
      "outputs": []
    },
    {
      "cell_type": "code",
      "source": [
        "def sum_dict_values(my_dict):\n",
        "  total_sum = sum(my_dict.values())\n",
        "  return total_sum\n",
        "my_dict = {'a': 10, 'b': 20, 'c': 30}\n",
        "sum_of_values = sum_dict_values(my_dict)\n",
        "print(\"Sum of all values in the dictionary:\", sum_of_values)"
      ],
      "metadata": {
        "id": "iu2ah-ExM0Eu"
      },
      "execution_count": null,
      "outputs": []
    },
    {
      "cell_type": "code",
      "source": [
        "my_dict = {'a': 1, 'b': 2, 'c': 3}\n",
        "key_to_remove = 'b'\n",
        "if key_to_remove in my_dict:\n",
        "    removed_value = my_dict.pop(key_to_remove)\n",
        "    print(f\"Removed key '{key_to_remove}' with value {removed_value}\")\n",
        "    print(\"Updated dictionary:\", my_dict)\n",
        "else:\n",
        "    print(f\"Key '{key_to_remove}' not found in the dictionary\")\n",
        "\n"
      ],
      "metadata": {
        "id": "dmEYDAdAM5_b"
      },
      "execution_count": null,
      "outputs": []
    },
    {
      "cell_type": "code",
      "source": [
        "dict1 = {'a': 1, 'b': 2}\n",
        "dict2 = {'c': 3, 'd': 4}\n",
        "merged_dict = {**dict1, **dict2}\n",
        "print(\"Merged dictionary using ** operator:\", merged_dict)"
      ],
      "metadata": {
        "id": "pSLSOf3dNYRs"
      },
      "execution_count": null,
      "outputs": []
    }
  ]
}